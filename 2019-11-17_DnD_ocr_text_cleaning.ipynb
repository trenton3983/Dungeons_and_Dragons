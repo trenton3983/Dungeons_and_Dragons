{
 "cells": [
  {
   "cell_type": "markdown",
   "metadata": {},
   "source": [
    "## Imported packages\n",
    "\n",
    "- I update `conda` on a weekly basis, so whatever version is supplied from the distribution update"
   ]
  },
  {
   "cell_type": "code",
   "execution_count": null,
   "metadata": {},
   "outputs": [],
   "source": [
    "import pandas as pd\n",
    "from pandas.io.json import json_normalize\n",
    "from PIL import Image\n",
    "import pytesseract\n",
    "from pdf2image import convert_from_path \n",
    "from pathlib import Path\n",
    "import json\n",
    "import re\n",
    "from pprint import pprint as pp\n",
    "from ast import literal_eval"
   ]
  },
  {
   "cell_type": "markdown",
   "metadata": {},
   "source": [
    "## Pandas configuration options"
   ]
  },
  {
   "cell_type": "code",
   "execution_count": null,
   "metadata": {},
   "outputs": [],
   "source": [
    "pd.set_option('display.max_columns', 700)\n",
    "pd.set_option('display.max_rows', 100)\n",
    "pd.set_option('display.min_rows', 10)\n",
    "pd.set_option('display.expand_frame_repr', True)"
   ]
  },
  {
   "cell_type": "markdown",
   "metadata": {},
   "source": [
    "## Config files for the location of the tesseract installation"
   ]
  },
  {
   "cell_type": "code",
   "execution_count": null,
   "metadata": {},
   "outputs": [],
   "source": [
    "pytesseract.pytesseract.tesseract_cmd = r'E:\\Program Files\\Tesseract-OCR\\tesseract.exe'\n",
    "tessdata_dir_config = '--tessdata-dir \"E:\\\\Program Files\\\\Tesseract-OCR\\\\tessdata\"'"
   ]
  },
  {
   "cell_type": "markdown",
   "metadata": {},
   "source": [
    "## Testing"
   ]
  },
  {
   "cell_type": "code",
   "execution_count": null,
   "metadata": {},
   "outputs": [],
   "source": [
    "pdf = pytesseract.image_to_pdf_or_hocr(r'E:\\Users\\Trenton J. McKinney\\Documents\\Dropbox\\D & D\\2nd Ed Rules\\Tome of Magic (TSR2121).pdf', extension='pdf', config=tessdata_dir_config)"
   ]
  },
  {
   "cell_type": "code",
   "execution_count": null,
   "metadata": {},
   "outputs": [],
   "source": []
  },
  {
   "cell_type": "code",
   "execution_count": null,
   "metadata": {},
   "outputs": [],
   "source": [
    "from skimage import io\n",
    "import numpy as np"
   ]
  },
  {
   "cell_type": "code",
   "execution_count": null,
   "metadata": {},
   "outputs": [],
   "source": [
    "images = list(Path.cwd().glob('*.png'))"
   ]
  },
  {
   "cell_type": "code",
   "execution_count": null,
   "metadata": {},
   "outputs": [],
   "source": [
    "for image in images:\n",
    "    im = io.imread(image, as_gray=True)\n",
    "    im = np.invert(im)\n",
    "    \n",
    "#     image_text = pytesseract.image_to_string(Image.open(image), config=tessdata_dir_config)\n",
    "    image_text = pytesseract.image_to_string(im, config=tessdata_dir_config)\n",
    "    print(image_text)"
   ]
  },
  {
   "cell_type": "code",
   "execution_count": null,
   "metadata": {},
   "outputs": [],
   "source": []
  },
  {
   "cell_type": "code",
   "execution_count": null,
   "metadata": {},
   "outputs": [],
   "source": [
    "image_text = pytesseract.image_to_string(Image.open('so.png'), config=tessdata_dir_config)"
   ]
  },
  {
   "cell_type": "code",
   "execution_count": null,
   "metadata": {},
   "outputs": [],
   "source": [
    "image_text"
   ]
  },
  {
   "cell_type": "code",
   "execution_count": null,
   "metadata": {},
   "outputs": [],
   "source": [
    "i = image_text"
   ]
  },
  {
   "cell_type": "code",
   "execution_count": null,
   "metadata": {},
   "outputs": [],
   "source": [
    "il = i.split('\\n')"
   ]
  },
  {
   "cell_type": "code",
   "execution_count": null,
   "metadata": {},
   "outputs": [],
   "source": [
    "il"
   ]
  },
  {
   "cell_type": "markdown",
   "metadata": {},
   "source": [
    "## OCR pdf file and save text to a `.txt` file\n",
    "\n",
    "- Copyright prevents the distribution of the source material, you'll have to possess a personal copy"
   ]
  },
  {
   "cell_type": "code",
   "execution_count": null,
   "metadata": {},
   "outputs": [],
   "source": [
    "f = list(Path(r'E:\\PythonProjects\\Dungeons_and_Dragons\\pdf_data').glob('bigb*.pdf'))\n",
    "         \n",
    "filename_list = [r'E:\\PythonProjects\\Dungeons_and_Dragons\\pdf_data\\tome_of_magic_wizard_spells_2nd.pdf',\n",
    "                 r'E:\\PythonProjects\\Dungeons_and_Dragons\\pdf_data\\tome_of_magic_cleric_spells_2nd.pdf',]\n",
    "\n",
    "for filename in f:\n",
    "    text = ''\n",
    "    pages = convert_from_path(filename, 500)\n",
    "    text += '\\n'.join(pytesseract.image_to_string(page, config=tessdata_dir_config) for page in pages)\n",
    "    filename.with_suffix('.txt').write_text(text)"
   ]
  },
  {
   "cell_type": "code",
   "execution_count": null,
   "metadata": {},
   "outputs": [],
   "source": [
    "pp(text)"
   ]
  },
  {
   "cell_type": "markdown",
   "metadata": {},
   "source": [
    "## Review `spells.json` in `pandas`"
   ]
  },
  {
   "cell_type": "code",
   "execution_count": null,
   "metadata": {},
   "outputs": [],
   "source": [
    "p = Path.cwd() / 'spells.json'"
   ]
  },
  {
   "cell_type": "code",
   "execution_count": null,
   "metadata": {},
   "outputs": [],
   "source": [
    "with p.open('r', encoding='utf-8') as f:\n",
    "    data = json.loads(f.read())"
   ]
  },
  {
   "cell_type": "code",
   "execution_count": null,
   "metadata": {},
   "outputs": [],
   "source": [
    "df = json_normalize(data)\n",
    "df"
   ]
  },
  {
   "cell_type": "code",
   "execution_count": null,
   "metadata": {},
   "outputs": [],
   "source": [
    "for x in range(len(df)):\n",
    "    print(df.Description.iloc[x])\n",
    "    print('*'*100)"
   ]
  },
  {
   "cell_type": "markdown",
   "metadata": {},
   "source": [
    "## Clean Description:"
   ]
  },
  {
   "cell_type": "code",
   "execution_count": null,
   "metadata": {},
   "outputs": [],
   "source": [
    "test = \"\"\"When this spell 1s employed, the wizard can\n",
    "command any nonliving rope-like object, including string, yarn, cord, line, rope, or even a cable.\n",
    "The spell affects 50 feet of normal rope (with a 1\n",
    "inch diameter), plus 5 feet per caster level. This\n",
    "length is reduced by 50% for every additional\n",
    "inch of thickness and increased by 50% for each\n",
    "half-inch less. The possible commands are Coil\n",
    "(form a neat, coiled stack), Coil & Knot, Loop,\n",
    "Loop & Knot, Tie & Knot, and the reverses of all\n",
    "of the above (Uncoil, etc.). One command can be\n",
    "given each round.\\n\\n\n",
    "\n",
    "The rope can only enwrap a creature or an\n",
    "object within 1 foot of it—it does not snake outward—so it must be thrown or hurled near the\n",
    "intended target. Note that the rope itself, and any\n",
    "knots tied in it, are not magical. A typical rope\n",
    "might be AC 6 and take 4 points of slashing damage before breaking. The rope does not inflict\n",
    "damage of any type, but it can be used as a trip\n",
    "line or to entangle a single opponent who fails a\n",
    "saving throw vs. spell.\\n\\n\n",
    "\n",
    "Notes: Common spell (PHB).\"\"\""
   ]
  },
  {
   "cell_type": "code",
   "execution_count": null,
   "metadata": {},
   "outputs": [],
   "source": [
    "found = re.findall('[a-zA-Z,]\\n[a-zA-Z]', test)\n",
    "repl = [x.replace('\\n', ' ') for x in found]\n",
    "z = list(zip(found, repl))"
   ]
  },
  {
   "cell_type": "code",
   "execution_count": null,
   "metadata": {},
   "outputs": [],
   "source": [
    "for x, y in z:\n",
    "    test = re.sub(x, y, test)"
   ]
  },
  {
   "cell_type": "code",
   "execution_count": null,
   "metadata": {},
   "outputs": [],
   "source": [
    "for x in range(2):\n",
    "    test = re.sub('\\\\n\\\\n\\\\n', '\\n\\n', test, count=0)"
   ]
  },
  {
   "cell_type": "code",
   "execution_count": null,
   "metadata": {},
   "outputs": [],
   "source": [
    "re.findall('\\n\\n\\n', test)"
   ]
  },
  {
   "cell_type": "code",
   "execution_count": null,
   "metadata": {},
   "outputs": [],
   "source": [
    "test"
   ]
  },
  {
   "cell_type": "markdown",
   "metadata": {},
   "source": [
    "## Read File into Dict"
   ]
  },
  {
   "cell_type": "code",
   "execution_count": null,
   "metadata": {},
   "outputs": [],
   "source": [
    "d = list()\n",
    "spell = dict()\n",
    "with open(\"mem_spell.txt\", encoding='utf-8') as f:\n",
    "    for line in f:\n",
    "        if line != '\\n':\n",
    "            print(line)\n",
    "            (key, val) = line.split('| ')\n",
    "            val = val.strip()\n",
    "            if key in ['Class', 'School', 'Components']:\n",
    "                val = literal_eval(val)\n",
    "            spell[key] = val\n",
    "        else:\n",
    "            spell['Description'] = spell['Description'].replace('\\\\n', '\\n')\n",
    "            spell['Level'] = int(spell['Level'])\n",
    "            d.append(spell)\n",
    "            with open('spells2.json', 'a', encoding='utf-8', newline='\\n') as fp:\n",
    "                json.dump(spell, fp)\n",
    "                fp.write('\\n')\n",
    "            spell = dict()"
   ]
  },
  {
   "cell_type": "code",
   "execution_count": null,
   "metadata": {},
   "outputs": [],
   "source": [
    "d"
   ]
  },
  {
   "cell_type": "code",
   "execution_count": null,
   "metadata": {},
   "outputs": [],
   "source": []
  }
 ],
 "metadata": {
  "kernelspec": {
   "display_name": "Python 3",
   "language": "python",
   "name": "python3"
  },
  "language_info": {
   "codemirror_mode": {
    "name": "ipython",
    "version": 3
   },
   "file_extension": ".py",
   "mimetype": "text/x-python",
   "name": "python",
   "nbconvert_exporter": "python",
   "pygments_lexer": "ipython3",
   "version": "3.7.5"
  }
 },
 "nbformat": 4,
 "nbformat_minor": 4
}
